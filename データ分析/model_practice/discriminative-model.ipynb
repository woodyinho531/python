{
 "cells": [
  {
   "cell_type": "code",
   "execution_count": 1,
   "metadata": {},
   "outputs": [],
   "source": [
    "%matplotlib inline\n",
    "import numpy as np\n",
    "import matplotlib.pyplot as plt\n",
    "from sklearn.datasets import load_iris\n",
    "from sklearn.linear_model import Perceptron"
   ]
  },
  {
   "cell_type": "code",
   "execution_count": 2,
   "metadata": {},
   "outputs": [],
   "source": [
    "iris = load_iris()"
   ]
  },
  {
   "cell_type": "code",
   "execution_count": 3,
   "metadata": {
    "scrolled": true
   },
   "outputs": [
    {
     "name": "stdout",
     "output_type": "stream",
     "text": [
      "data\n",
      "target\n",
      "target_names\n",
      "DESCR\n",
      "feature_names\n"
     ]
    }
   ],
   "source": [
    "for key in iris.keys():\n",
    "    print(key)"
   ]
  },
  {
   "cell_type": "code",
   "execution_count": 4,
   "metadata": {},
   "outputs": [
    {
     "name": "stdout",
     "output_type": "stream",
     "text": [
      "Iris Plants Database\n",
      "====================\n",
      "\n",
      "Notes\n",
      "-----\n",
      "Data Set Characteristics:\n",
      "    :Number of Instances: 150 (50 in each of three classes)\n",
      "    :Number of Attributes: 4 numeric, predictive attributes and the class\n",
      "    :Attribute Information:\n",
      "        - sepal length in cm\n",
      "        - sepal width in cm\n",
      "        - petal length in cm\n",
      "        - petal width in cm\n",
      "        - class:\n",
      "                - Iris-Setosa\n",
      "                - Iris-Versicolour\n",
      "                - Iris-Virginica\n",
      "    :Summary Statistics:\n",
      "\n",
      "    ============== ==== ==== ======= ===== ====================\n",
      "                    Min  Max   Mean    SD   Class Correlation\n",
      "    ============== ==== ==== ======= ===== ====================\n",
      "    sepal length:   4.3  7.9   5.84   0.83    0.7826\n",
      "    sepal width:    2.0  4.4   3.05   0.43   -0.4194\n",
      "    petal length:   1.0  6.9   3.76   1.76    0.9490  (high!)\n",
      "    petal width:    0.1  2.5   1.20  0.76     0.9565  (high!)\n",
      "    ============== ==== ==== ======= ===== ====================\n",
      "\n",
      "    :Missing Attribute Values: None\n",
      "    :Class Distribution: 33.3% for each of 3 classes.\n",
      "    :Creator: R.A. Fisher\n",
      "    :Donor: Michael Marshall (MARSHALL%PLU@io.arc.nasa.gov)\n",
      "    :Date: July, 1988\n",
      "\n",
      "This is a copy of UCI ML iris datasets.\n",
      "http://archive.ics.uci.edu/ml/datasets/Iris\n",
      "\n",
      "The famous Iris database, first used by Sir R.A Fisher\n",
      "\n",
      "This is perhaps the best known database to be found in the\n",
      "pattern recognition literature.  Fisher's paper is a classic in the field and\n",
      "is referenced frequently to this day.  (See Duda & Hart, for example.)  The\n",
      "data set contains 3 classes of 50 instances each, where each class refers to a\n",
      "type of iris plant.  One class is linearly separable from the other 2; the\n",
      "latter are NOT linearly separable from each other.\n",
      "\n",
      "References\n",
      "----------\n",
      "   - Fisher,R.A. \"The use of multiple measurements in taxonomic problems\"\n",
      "     Annual Eugenics, 7, Part II, 179-188 (1936); also in \"Contributions to\n",
      "     Mathematical Statistics\" (John Wiley, NY, 1950).\n",
      "   - Duda,R.O., & Hart,P.E. (1973) Pattern Classification and Scene Analysis.\n",
      "     (Q327.D83) John Wiley & Sons.  ISBN 0-471-22361-1.  See page 218.\n",
      "   - Dasarathy, B.V. (1980) \"Nosing Around the Neighborhood: A New System\n",
      "     Structure and Classification Rule for Recognition in Partially Exposed\n",
      "     Environments\".  IEEE Transactions on Pattern Analysis and Machine\n",
      "     Intelligence, Vol. PAMI-2, No. 1, 67-71.\n",
      "   - Gates, G.W. (1972) \"The Reduced Nearest Neighbor Rule\".  IEEE Transactions\n",
      "     on Information Theory, May 1972, 431-433.\n",
      "   - See also: 1988 MLC Proceedings, 54-64.  Cheeseman et al\"s AUTOCLASS II\n",
      "     conceptual clustering system finds 3 classes in the data.\n",
      "   - Many, many more ...\n",
      "\n"
     ]
    }
   ],
   "source": [
    "print(iris['DESCR'])"
   ]
  },
  {
   "cell_type": "code",
   "execution_count": 5,
   "metadata": {},
   "outputs": [
    {
     "data": {
      "text/plain": [
       "((150, 4), numpy.ndarray)"
      ]
     },
     "execution_count": 5,
     "metadata": {},
     "output_type": "execute_result"
    }
   ],
   "source": [
    "iris['data'].shape, type(iris['data'])"
   ]
  },
  {
   "cell_type": "code",
   "execution_count": 6,
   "metadata": {},
   "outputs": [
    {
     "data": {
      "text/plain": [
       "['sepal length (cm)',\n",
       " 'sepal width (cm)',\n",
       " 'petal length (cm)',\n",
       " 'petal width (cm)']"
      ]
     },
     "execution_count": 6,
     "metadata": {},
     "output_type": "execute_result"
    }
   ],
   "source": [
    "iris['feature_names']"
   ]
  },
  {
   "cell_type": "code",
   "execution_count": 7,
   "metadata": {},
   "outputs": [
    {
     "data": {
      "text/plain": [
       "(150,)"
      ]
     },
     "execution_count": 7,
     "metadata": {},
     "output_type": "execute_result"
    }
   ],
   "source": [
    "iris['target'].shape"
   ]
  },
  {
   "cell_type": "code",
   "execution_count": 8,
   "metadata": {},
   "outputs": [
    {
     "data": {
      "text/plain": [
       "{0, 1, 2}"
      ]
     },
     "execution_count": 8,
     "metadata": {},
     "output_type": "execute_result"
    }
   ],
   "source": [
    "set(iris['target'])"
   ]
  },
  {
   "cell_type": "code",
   "execution_count": 9,
   "metadata": {},
   "outputs": [
    {
     "data": {
      "text/plain": [
       "array(['setosa', 'versicolor', 'virginica'], dtype='<U10')"
      ]
     },
     "execution_count": 9,
     "metadata": {},
     "output_type": "execute_result"
    }
   ],
   "source": [
    "iris['target_names']"
   ]
  },
  {
   "cell_type": "code",
   "execution_count": 11,
   "metadata": {},
   "outputs": [
    {
     "data": {
      "image/png": "[encoded data removed]",
      "text/plain": [
       "<Figure size 576x576 with 16 Axes>"
      ]
     },
     "metadata": {
      "needs_background": "light"
     },
     "output_type": "display_data"
    }
   ],
   "source": [
    "data       = iris['data']\n",
    "target     = iris['target']\n",
    "feature_names = iris['feature_names']\n",
    "target_names  = iris['target_names']\n",
    "n_features = data.shape[1]\n",
    "\n",
    "fig, axes = plt.subplots(n_features, n_features)\n",
    "fig.set_size_inches(8, 8)\n",
    "plt.subplots_adjust(wspace=0, hspace=0)\n",
    "\n",
    "for row in range(n_features):\n",
    "    for col in range(n_features):\n",
    "        vmin = data[:,row].min()\n",
    "        vmax = data[:,row].max()\n",
    "        axes[row][col].tick_params(left=False, right=False, top=False, bottom=False, labelbottom=False, labelleft=False)\n",
    "        \n",
    "        if row == col:\n",
    "            for cls in set(target):\n",
    "                ii = (target == cls)\n",
    "                axes[row][col].hist(data[ii,row], range=(vmin, vmax), bins=20, alpha=.6, label=target_names[cls])\n",
    "            axes[row][col].set_ylim(0,35)\n",
    "        else:\n",
    "            for cls in set(target):\n",
    "                ii = target == cls\n",
    "                axes[row][col].plot(data[ii,col], data[ii,row], '.')\n",
    "                \n",
    "        if col == 0:\n",
    "            if row > 0:\n",
    "                axes[row][col].set_ylabel(feature_names[row])\n",
    "            axes[row][col].tick_params(left=True, labelleft=True)\n",
    "        elif col == (n_features - 1):\n",
    "            axes[row][col].tick_params(labelright=True, right=True)\n",
    "            if row < (n_features - 1):\n",
    "                axes[row][col].set_ylabel(feature_names[row])\n",
    "                axes[row][col].yaxis.set_label_position(\"right\")\n",
    "            \n",
    "        if row == 0:\n",
    "            axes[row][col].tick_params(labeltop=True, top=True)\n",
    "            axes[row][col].xaxis.set_label_position(\"top\")\n",
    "            axes[row][col].set_xlabel(feature_names[col])\n",
    "        elif row == (n_features - 1):\n",
    "            axes[row][col].tick_params(labelbottom=True, bottom=True)\n",
    "            axes[row][col].set_xlabel(feature_names[col])\n",
    "axes[0][0].legend(frameon=False)\n",
    "fig.savefig(\"images/iris_plot_scattered.png\")\n",
    "plt.show()"
   ]
  },
  {
   "cell_type": "markdown",
   "metadata": {},
   "source": [
    "## パーセプトロン\n",
    "\n",
    "内花の幅と長さを用いて分類を行う"
   ]
  },
  {
   "cell_type": "code",
   "execution_count": 12,
   "metadata": {},
   "outputs": [],
   "source": [
    "is_setosa = (target == 0)\n",
    "model = Perceptron(max_iter=1000, tol=1e-3).fit(data[:,2:], is_setosa)"
   ]
  },
  {
   "cell_type": "code",
   "execution_count": 13,
   "metadata": {},
   "outputs": [
    {
     "name": "stdout",
     "output_type": "stream",
     "text": [
      "coef: [[-0.6 -1.2]], intercept: [2.]\n"
     ]
    }
   ],
   "source": [
    "# パラメータを表示\n",
    "print(f\"coef: {model.coef_}, intercept: {model.intercept_}\")"
   ]
  },
  {
   "cell_type": "code",
   "execution_count": 14,
   "metadata": {},
   "outputs": [
    {
     "name": "stdout",
     "output_type": "stream",
     "text": [
      "classification failed 0/150\n"
     ]
    }
   ],
   "source": [
    "# 分類をおこなってみる\n",
    "predicted = model.predict(data[:,2:])\n",
    "print(f\"classification failed {np.count_nonzero(predicted != is_setosa)}/{is_setosa.size}\")"
   ]
  },
  {
   "cell_type": "code",
   "execution_count": 15,
   "metadata": {},
   "outputs": [
    {
     "data": {
      "image/png": "[encoded data removed]",
      "text/plain": [
       "<Figure size 360x360 with 1 Axes>"
      ]
     },
     "metadata": {
      "needs_background": "light"
     },
     "output_type": "display_data"
    }
   ],
   "source": [
    "fig = plt.figure()\n",
    "fig.set_size_inches(5, 5)\n",
    "\n",
    "# x, yとしてwidth, lengthの値を作成\n",
    "petal_width  = iris['data'][:,3]\n",
    "petal_length = iris['data'][:,2]\n",
    "\n",
    "# 境界線の図示に使うx, yを設定\n",
    "line_x = np.linspace(0, 2/1.2, 2)\n",
    "line_y = 2/0.6 - 2*line_x\n",
    "\n",
    "# データ点のプロット\n",
    "plt.plot(petal_width[is_setosa], petal_length[is_setosa], 'b.')\n",
    "plt.plot(petal_width[~is_setosa], petal_length[~is_setosa], 'k.')\n",
    "plt.plot(line_x, line_y, 'b--', lw=2)\n",
    "plt.fill_between(line_x, line_y, color='b', lw=0, alpha=.05)\n",
    "plt.xlim(0, 2.5)\n",
    "plt.ylim(0, 7.5)\n",
    "plt.xlabel(feature_names[3])\n",
    "plt.ylabel(feature_names[2])\n",
    "fig.savefig('images/perceptron_visualization.png')\n",
    "plt.show()"
   ]
  },
  {
   "cell_type": "markdown",
   "metadata": {},
   "source": [
    "## ロジスティックモデル\n",
    "\n",
    "`sklearn.linear_model.LogisticRegression` の読み込み"
   ]
  },
  {
   "cell_type": "code",
   "execution_count": 16,
   "metadata": {},
   "outputs": [],
   "source": [
    "from sklearn.linear_model import LogisticRegression"
   ]
  },
  {
   "cell_type": "markdown",
   "metadata": {},
   "source": [
    "`petal_width` だけ用いて `setosa` の識別器を作ってみる"
   ]
  },
  {
   "cell_type": "code",
   "execution_count": 17,
   "metadata": {},
   "outputs": [
    {
     "name": "stdout",
     "output_type": "stream",
     "text": [
      "coef: [[-4.52898602]], intercept: [3.41492082]\n"
     ]
    }
   ],
   "source": [
    "petal_width  = iris['data'][:,3]\n",
    "input_data   = petal_width.reshape((-1,1))\n",
    "is_setosa    = (iris['target'] == 0)\n",
    "\n",
    "model = LogisticRegression(solver='lbfgs').fit(input_data, is_setosa)\n",
    "\n",
    "print(f\"coef: {model.coef_}, intercept: {model.intercept_}\")"
   ]
  },
  {
   "cell_type": "markdown",
   "metadata": {},
   "source": [
    "$P_\\mathrm{Setosa}(x) = \\frac{1}{1 + \\mathrm{e}^{4.53x + 3.42}}​$ のロジスティック曲線を表示する"
   ]
  },
  {
   "cell_type": "code",
   "execution_count": 18,
   "metadata": {},
   "outputs": [
    {
     "data": {
      "image/png": "[encoded data removed]",
      "text/plain": [
       "<Figure size 432x288 with 2 Axes>"
      ]
     },
     "metadata": {
      "needs_background": "light"
     },
     "output_type": "display_data"
    }
   ],
   "source": [
    "weights = np.ones(petal_width.size)/(petal_width.size)\n",
    "line_x  = np.linspace(0, 2.5, 100)\n",
    "line_exp= line_x * model.coef_[0,0] + model.intercept_[0]\n",
    "line_y  = 1/(1 + np.exp(-line_exp))\n",
    "\n",
    "fig, ax1 = plt.subplots()\n",
    "ax1.plot(line_x, line_y, 'b--', lw=2)\n",
    "ax1.hlines(0.5, 0, 2.5, color='k', linestyles='dotted')\n",
    "ax1.set_ylim(0, 1)\n",
    "ax1.set_xlim(0, 2.5)\n",
    "ax1.set_ylabel(\"probability\")\n",
    "ax1.set_xlabel(\"petal width (cm)\")\n",
    "ax2 = ax1.twinx()\n",
    "_ = plt.hist(petal_width[is_setosa], range=(0, 2.5), bins=20, color='b', edgecolor='none', alpha=.6, weights=weights[is_setosa])\n",
    "_ = plt.hist(petal_width[~is_setosa], range=(0, 2.5), bins=20, color='k', edgecolor='none', alpha=.6, weights=weights[~is_setosa])\n",
    "plt.ylabel(\"fraction\")\n",
    "plt.subplots_adjust(left=.15, right=.85, bottom=.2)\n",
    "fig.savefig(\"images/logistic_plot.png\")\n",
    "plt.show()"
   ]
  },
  {
   "cell_type": "markdown",
   "metadata": {},
   "source": [
    "### 多項ロジスティックモデルを動かす"
   ]
  },
  {
   "cell_type": "code",
   "execution_count": 19,
   "metadata": {},
   "outputs": [
    {
     "name": "stdout",
     "output_type": "stream",
     "text": [
      "coef: [[-0.42339954  0.96170963 -2.5195144  -1.08594123]\n",
      " [ 0.53415033 -0.3179707  -0.20537656 -0.93966834]\n",
      " [-0.11075079 -0.64373893  2.72489096  2.02560957]], intercept: [  9.88126443   2.21931668 -12.1005811 ]\n"
     ]
    }
   ],
   "source": [
    "model = LogisticRegression(multi_class='multinomial', solver='lbfgs', max_iter=300).fit(iris['data'], iris['target'])\n",
    "\n",
    "print(f\"coef: {model.coef_}, intercept: {model.intercept_}\")"
   ]
  },
  {
   "cell_type": "code",
   "execution_count": 20,
   "metadata": {},
   "outputs": [
    {
     "data": {
      "text/plain": [
       "array([0, 0, 0, 0, 0, 0, 0, 0, 0, 0, 0, 0, 0, 0, 0, 0, 0, 0, 0, 0, 0, 0,\n",
       "       0, 0, 0, 0, 0, 0, 0, 0, 0, 0, 0, 0, 0, 0, 0, 0, 0, 0, 0, 0, 0, 0,\n",
       "       0, 0, 0, 0, 0, 0, 1, 1, 1, 1, 1, 1, 1, 1, 1, 1, 1, 1, 1, 1, 1, 1,\n",
       "       1, 1, 1, 1, 2, 1, 1, 1, 1, 1, 1, 2, 1, 1, 1, 1, 1, 2, 1, 1, 1, 1,\n",
       "       1, 1, 1, 1, 1, 1, 1, 1, 1, 1, 1, 1, 2, 2, 2, 2, 2, 2, 1, 2, 2, 2,\n",
       "       2, 2, 2, 2, 2, 2, 2, 2, 2, 2, 2, 2, 2, 2, 2, 2, 2, 2, 2, 2, 2, 2,\n",
       "       2, 2, 2, 2, 2, 2, 2, 2, 2, 2, 2, 2, 2, 2, 2, 2, 2, 2])"
      ]
     },
     "execution_count": 20,
     "metadata": {},
     "output_type": "execute_result"
    }
   ],
   "source": [
    "predicted = model.predict(iris['data'])\n",
    "\n",
    "predicted"
   ]
  },
  {
   "cell_type": "code",
   "execution_count": 21,
   "metadata": {},
   "outputs": [
    {
     "data": {
      "text/plain": [
       "4"
      ]
     },
     "execution_count": 21,
     "metadata": {},
     "output_type": "execute_result"
    }
   ],
   "source": [
    "np.count_nonzero(predicted != iris['target'])"
   ]
  },
  {
   "cell_type": "markdown",
   "metadata": {},
   "source": [
    "予測が外れたサンプルについて、本来の分類と予測された分類のカテゴリ変数値を出力"
   ]
  },
  {
   "cell_type": "code",
   "execution_count": 22,
   "metadata": {},
   "outputs": [
    {
     "data": {
      "text/plain": [
       "(array([2, 2, 2, 1]), array([1, 1, 1, 2]))"
      ]
     },
     "execution_count": 22,
     "metadata": {},
     "output_type": "execute_result"
    }
   ],
   "source": [
    "nonmatch = (predicted != iris['target'])\n",
    "predicted[nonmatch], iris['target'][nonmatch]"
   ]
  },
  {
   "cell_type": "code",
   "execution_count": null,
   "metadata": {},
   "outputs": [],
   "source": []
  }
 ],
 "metadata": {
  "kernelspec": {
   "display_name": "Python 3",
   "language": "python",
   "name": "python3"
  },
  "language_info": {
   "codemirror_mode": {
    "name": "ipython",
    "version": 3
   },
   "file_extension": ".py",
   "mimetype": "text/x-python",
   "name": "python",
   "nbconvert_exporter": "python",
   "pygments_lexer": "ipython3",
   "version": "3.7.3"
  }
 },
 "nbformat": 4,
 "nbformat_minor": 2
}
