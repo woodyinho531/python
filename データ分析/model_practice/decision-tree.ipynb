{
 "cells": [
  {
   "cell_type": "code",
   "execution_count": 1,
   "metadata": {},
   "outputs": [],
   "source": [
    "%matplotlib inline\n",
    "import numpy as np\n",
    "import matplotlib.pyplot as plt\n",
    "from sklearn import datasets\n",
    "from collections import namedtuple"
   ]
  },
  {
   "cell_type": "code",
   "execution_count": 2,
   "metadata": {},
   "outputs": [],
   "source": [
    "# irisデータの読み込み\n",
    "iris = datasets.load_iris()"
   ]
  },
  {
   "cell_type": "code",
   "execution_count": 3,
   "metadata": {},
   "outputs": [
    {
     "name": "stdout",
     "output_type": "stream",
     "text": [
      "data\n",
      "target\n",
      "target_names\n",
      "DESCR\n",
      "feature_names\n"
     ]
    }
   ],
   "source": [
    "# 構成を調べる\n",
    "for key in iris.keys():\n",
    "    print(key)"
   ]
  },
  {
   "cell_type": "code",
   "execution_count": 4,
   "metadata": {},
   "outputs": [
    {
     "data": {
      "text/plain": [
       "['sepal length (cm)',\n",
       " 'sepal width (cm)',\n",
       " 'petal length (cm)',\n",
       " 'petal width (cm)']"
      ]
     },
     "execution_count": 4,
     "metadata": {},
     "output_type": "execute_result"
    }
   ],
   "source": [
    "# 'feature_names' を確認\n",
    "iris['feature_names']"
   ]
  },
  {
   "cell_type": "markdown",
   "metadata": {},
   "source": [
    "## 決定木モデル"
   ]
  },
  {
   "cell_type": "markdown",
   "metadata": {},
   "source": [
    "## 分割基準の決定指標（ジニ係数）\n",
    "\n",
    "ジニ最適な分割を決定するアルゴリズム"
   ]
  },
  {
   "cell_type": "code",
   "execution_count": 5,
   "metadata": {},
   "outputs": [],
   "source": [
    "def gini(labels):\n",
    "    \"\"\"（サブ）データセットのカテゴリラベルに対してジニ係数を計算\"\"\"\n",
    "    coef = 1 # 初期値\n",
    "    N    = labels.size # （サブ）データセットの全体サイズ\n",
    "    for lab in set(labels):\n",
    "        coef -= (np.count_nonzero(labels == lab)/N)**2\n",
    "    return coef\n",
    "\n",
    "def try_division(labels, values):\n",
    "    \"\"\"カテゴリlabels、特徴量valuesのデータセットに対して最適な分割を計算し、\n",
    "    分割場所を返す。分割しないほうが最適な場合は、NaNを返す\"\"\"\n",
    "    \n",
    "    def iterate_borders(values):\n",
    "        \"\"\"与えられた特徴量のセットvaluesから、境界線を計算\"\"\"\n",
    "        sorted_values = values.copy()\n",
    "        sorted_values.sort()\n",
    "        border_candidates = (sorted_values[1:] + sorted_values[:-1])/2\n",
    "        prev = np.nan\n",
    "        for border in border_candidates.flatten():\n",
    "            if border == prev:\n",
    "                continue\n",
    "            else:\n",
    "                yield border\n",
    "                prev = border\n",
    "    \n",
    "    def divide(values, border):\n",
    "        return (values < border), (values >= border)\n",
    "    \n",
    "    # 最適解：「分割しない」で初期化\n",
    "    opt_border = np.nan\n",
    "    opt_gini   = gini(labels)\n",
    "    \n",
    "    # 全ての境界線を試してジニ係数を計算\n",
    "    for _border in iterate_borders(values):\n",
    "        _splitL, _splitR = divide(values, _border)\n",
    "        _gini = gini(labels[_splitL]) + gini(labels[_splitR])\n",
    "        \n",
    "        # 現在の最小値より小さかった場合のみ、最適解を更新\n",
    "        if _gini < opt_gini:\n",
    "            opt_gini   = _gini\n",
    "            opt_border = _border\n",
    "            \n",
    "    return opt_border"
   ]
  },
  {
   "cell_type": "code",
   "execution_count": 7,
   "metadata": {},
   "outputs": [
    {
     "data": {
      "image/png": "[encoded data removed]",
      "text/plain": [
       "<Figure size 432x288 with 1 Axes>"
      ]
     },
     "metadata": {
      "needs_background": "light"
     },
     "output_type": "display_data"
    }
   ],
   "source": [
    "iris        = datasets.load_iris()\n",
    "target      = iris['target']\n",
    "petal_width = iris['data'][:,3]\n",
    "\n",
    "border = try_division(target, petal_width)\n",
    "\n",
    "fig = plt.figure()\n",
    "for label in set(target):\n",
    "    group = (target == label)\n",
    "    plt.hist(petal_width[group], range=(0, 2.5), bins=30, alpha=.7, \n",
    "            label=iris['target_names'][label])\n",
    "plt.vlines(border, 0, 30, color='k', linestyles='dashed', linewidth=2,\n",
    "           label=f\"border ({border:.3f})\")\n",
    "plt.xlabel(iris['feature_names'][3])\n",
    "plt.legend(frameon=False)\n",
    "fig.savefig('images/decisiontree_division_output.png')\n",
    "plt.show()"
   ]
  },
  {
   "cell_type": "markdown",
   "metadata": {},
   "source": [
    "### 決定木アルゴリズムの実装\n"
   ]
  },
  {
   "cell_type": "code",
   "execution_count": 8,
   "metadata": {},
   "outputs": [],
   "source": [
    "def iterate_divisors(values, column_names=None):\n",
    "    \"\"\"与えられた(observations, features)の行列から分割方法をDivisorとして取り出すジェネレータを生成する。\n",
    "    column_namesはvaluesの各特徴量の名前で、Divisorの名前として渡される。\n",
    "    \"\"\"\n",
    "    n_obs, n_feats = values.shape\n",
    "    if column_names is None:\n",
    "        column_names = [f\"feature{i+1}\" for i in range(n_feats)]\n",
    "        \n",
    "    def get_column(j):\n",
    "        \"\"\"特徴量行列からj番目の特徴量を取り出す関数を返す\"\"\"\n",
    "        def selector(values):\n",
    "            return values[:,j]\n",
    "        return selector\n",
    "    \n",
    "    for j in range(n_feats):\n",
    "        selector     = get_column(j)    # j番目の特徴量を取り出す関数を得る\n",
    "        feature      = selector(values) # j番目の特徴量を得る\n",
    "        feature_name = column_names[j]  # j番目の特徴量の名前を得る\n",
    "        \n",
    "        # ソートして、可能な境界線を計算\n",
    "        sorted_values = values.copy()\n",
    "        sorted_values.sort()\n",
    "        border_candidates = (sorted_values[1:] + sorted_values[:-1])/2\n",
    "        prev = np.nan\n",
    "        for border in border_candidates.flatten():\n",
    "            if border == prev:\n",
    "                continue\n",
    "            else:\n",
    "                yield Divisor(feature_name, selector, border)\n",
    "                prev = border\n",
    "\n",
    "class Divisor:\n",
    "    \"\"\"分割方法を表すクラス。特徴量としては数量のみに特化し、カテゴリ変数は無視する。\"\"\"\n",
    "    \n",
    "    def __init__(self, name, selector, border):\n",
    "        \"\"\"分割基準を初期化する。\n",
    "        name     -- この基準の名前\n",
    "        selector -- (observations, features)の行列から特定の特徴量を取り出す関数\n",
    "        border   -- selectorで得られる特徴量を基準にした分割境界\n",
    "        \"\"\"\n",
    "        self.name   = name\n",
    "        self.get    = selector\n",
    "        self.border = border\n",
    "    \n",
    "    def __repr__(self):\n",
    "        return f\"Divisor({self.name} <> {self.border:.3f})\"\n",
    "    \n",
    "    def __call__(self, values):\n",
    "        \"\"\"与えられた(observations, features)の行列を用いて分割を行なう。\n",
    "        (values < border), (values >= border)のマスクのタプルを返す\"\"\"\n",
    "        feature = self.get(values)\n",
    "        return (feature < self.border), (feature >= self.border)"
   ]
  },
  {
   "cell_type": "code",
   "execution_count": 9,
   "metadata": {},
   "outputs": [],
   "source": [
    "class Growth:\n",
    "    \"\"\"Node.grow()の結果を保持するための補助クラス\"\"\"\n",
    "    \n",
    "    branched = False  # grow()の結果、新しい枝分かれが起こったか\n",
    "    tree     = None   # 結果の木\n",
    "    gain     = 0      # このgrow()の結果、ジニ係数がどれだけ減ったか\n",
    "    \n",
    "    def __init__(self, branched, tree, gain):\n",
    "        self.branched = branched\n",
    "        self.tree     = tree\n",
    "        self.gain     = gain\n",
    "    \n",
    "    def __repr__(self):\n",
    "        return f\"(GrowthStatus '{self.status()}': tree={self.tree})\"\n",
    "    \n",
    "    def message(self):\n",
    "        if self.branched:\n",
    "            return f\"--> G={self.tree.gini():.3f}; ∆={self.gain:.3f}\"\n",
    "        else:\n",
    "            return f\"*** G={self.tree.gini():.3f}\"\n",
    "    \n",
    "    @classmethod\n",
    "    def success(cls, tree, gain):\n",
    "        return cls(True, tree, gain)\n",
    "    \n",
    "    @classmethod\n",
    "    def failure(cls, tree):\n",
    "        return cls(False, tree, 0)"
   ]
  },
  {
   "cell_type": "code",
   "execution_count": 10,
   "metadata": {},
   "outputs": [],
   "source": [
    "class Node:\n",
    "    \"\"\"決定木のノード情報を保持するクラス\"\"\"\n",
    "    label    = None  # このノードが出力する予測カテゴリ；最もサンプル数の多いものが保存される\n",
    "    divisor  = None  # 子ノードがある場合に分割基準となるDivisorクラス。Noneなら葉ノード\n",
    "    children = None  # 子ノード\n",
    "    min_gini = 1e-6  # 現状以上の分割が必要になるジニ係数の最小値\n",
    "    depth    = 0     # このノードの深さ\n",
    "    logging  = False # ログ出力\n",
    "    \n",
    "    def __init__(self, values, labels, depth=0, column_names=None, logging=False):\n",
    "        self._labels   = labels\n",
    "        self._values   = values\n",
    "        self._colnames = column_names\n",
    "        self._depth    = depth\n",
    "        self._gini     = gini(labels)\n",
    "        self.label     = max(set(labels), key=lambda lab: np.count_nonzero(self._labels == lab))\n",
    "        self.logging   = logging\n",
    "    \n",
    "    def __repr__(self):\n",
    "        return f\"Node({self._labels.size};depth={self._depth};G={self._gini:.3f})\"\n",
    "    \n",
    "    def _basecopy(self, values=None, labels=None, depth=None):\n",
    "        if labels is None:\n",
    "            labels = self._labels\n",
    "        if values is None:\n",
    "            values = self._values\n",
    "        if depth is None:\n",
    "            depth = self._depth\n",
    "        return self.__class__(values, labels, depth, self._colnames, self.logging)\n",
    "    \n",
    "    def _graft(self, children):\n",
    "        \"\"\"子ノードを入れ替える形で、このノードのコピーを作成する\"\"\"\n",
    "        if self.divisor is None: # 子ノードなし\n",
    "            raise RunrimeError(\"graft must be called when there are child nodes\")\n",
    "        copied = self._basecopy()\n",
    "        copied.divisor  = self.divisor\n",
    "        copied.children = children\n",
    "        return copied\n",
    "    \n",
    "    def _split(self, divisor):\n",
    "        \"\"\"与えられたdivisorでデータ分割を行ない、分割された場合の木のコピーを返す。\"\"\"\n",
    "        if self.divisor is not None:\n",
    "            raise RunrimeError(\"split must be called when there are *no* child nodes\")\n",
    "        divided = self._basecopy()\n",
    "        divided.divisor  = divisor\n",
    "        divided.children = tuple(self._basecopy(self._values[sp], self._labels[sp], self._depth+1) \\\n",
    "                                 for sp in divisor(self._values))\n",
    "        return divided\n",
    "    \n",
    "    def gini(self):\n",
    "        \"\"\"このノード以降の、決定木のジニ係数\"\"\"\n",
    "        if self.divisor is None:\n",
    "            return self._gini\n",
    "        else:\n",
    "            return sum(child.gini() for child in self.children)\n",
    "    \n",
    "    def grow(self):\n",
    "        \"\"\"このノードより先の部分の分割を増やすことを試みて、Growthを返す。\"\"\"\n",
    "        if self.divisor is None: # 葉ノード\n",
    "            \n",
    "            # すでに単一カテゴリにじゅうぶん近いなら、これ以上の分割はしない\n",
    "            if self._gini < self.min_gini:\n",
    "                if self.logging == True:\n",
    "                    print(f\"no more growth on: {self}\")\n",
    "                return Growth.failure(self)\n",
    "            \n",
    "            # 最適分割境界の探索\n",
    "            opt_div  = None\n",
    "            opt_gini = self._gini\n",
    "            # 全ての境界線を試してジニ係数を計算\n",
    "            for _divisor in iterate_divisors(self._values, column_names=self._colnames):\n",
    "                _splitL, _splitR = _divisor(self._values)\n",
    "                _gini = gini(self._labels[_splitL]) + gini(self._labels[_splitR])\n",
    "                # 現在の最小値より小さかった場合のみ、最適解を更新\n",
    "                if _gini < opt_gini:\n",
    "                    if self.logging == True:\n",
    "                        print(f\"updating: {self} / {_divisor}\")\n",
    "                    opt_gini = _gini\n",
    "                    opt_div  = _divisor\n",
    "            if opt_div is None:\n",
    "                if self.logging == True:\n",
    "                    print(f\"no nice divisor found for: {self}\")\n",
    "                return Growth.failure(self)\n",
    "            else:\n",
    "                return Growth.success(self._split(opt_div), self._gini - opt_gini)\n",
    "            \n",
    "        else: # 子ノードあり\n",
    "            grown = [child.grow() for child in self.children]\n",
    "            \n",
    "            # どちらも伸びなかったらそのまま終了\n",
    "            if all(not status.branched for status in grown):\n",
    "                if self.logging == True:\n",
    "                    print(f\"both children did not grow for: {self}\")\n",
    "                return Growth.failure(self)\n",
    "            \n",
    "            # その他の場合、gainの大きい方を伸ばす\n",
    "            if grown[0].gain >= grown[1].gain:\n",
    "                children = (grown[0].tree, self.children[1])\n",
    "                gain     = grown[0].gain\n",
    "            else:\n",
    "                children = (self.children[0], grown[1].tree)\n",
    "                gain     = grown[1].gain\n",
    "            return Growth.success(self._graft(children), gain)\n",
    "    \n",
    "    def predict(self, values):\n",
    "        \"\"\"与えられたvaluesからカテゴリの予測値を返す。\"\"\"\n",
    "        ret = np.empty(values.shape[0], dtype=int)\n",
    "        if self.divisor is None: # 葉ノード\n",
    "            ret[:] = self.label\n",
    "        else:\n",
    "            for child, ind in zip(self.children, self.divisor(values)):\n",
    "                ret[ind] = child.predict(values[ind])\n",
    "        return ret\n",
    "    \n",
    "    def validate(self, values, labels):\n",
    "        \"\"\"与えられた(labels, values)でバリデーションを行なう。予測があっていたかどうかをブール値で返す。\"\"\"\n",
    "        prediction = self.predict(values)\n",
    "        return (prediction == labels)\n",
    "    \n",
    "    def format(self, indent=0, labels=None):\n",
    "        \"\"\"木の構造がわかる形で出力する\"\"\"\n",
    "        if labels is None:\n",
    "            labels = set(self._labels)\n",
    "        spaces = ' '*4*indent\n",
    "        if self.divisor is not None:\n",
    "            print(f\"{spaces}-> ? {self.divisor.name} <> {self.divisor.border} (G={self._gini:.3f})\")\n",
    "            for child in self.children:\n",
    "                child.format(indent=indent+1, labels=labels)\n",
    "        else:\n",
    "            sizes  = [np.count_nonzero(self._labels == lab) for lab in sorted(labels)]\n",
    "            print(f\"{spaces}-> {sizes} (G={self._gini:.3f})\")"
   ]
  },
  {
   "cell_type": "code",
   "execution_count": 11,
   "metadata": {},
   "outputs": [],
   "source": [
    "def build_decision_tree(values, labels, column_names=None, logging=False):\n",
    "    \"\"\"決定木を作る\"\"\"\n",
    "    tree = Node(values, labels, column_names=column_names, logging=logging)\n",
    "    while True:\n",
    "        stat = tree.grow()\n",
    "        if logging == True:\n",
    "            print(stat.message())\n",
    "        tree = stat.tree\n",
    "        if not stat.branched:\n",
    "            if logging == True:\n",
    "                print(\"*** cannot grow more\")\n",
    "            break\n",
    "        elif tree.gini == 0:\n",
    "            if logging == True:\n",
    "                print(\"*** reached limit\")\n",
    "            break\n",
    "    return tree"
   ]
  },
  {
   "cell_type": "code",
   "execution_count": 12,
   "metadata": {},
   "outputs": [],
   "source": [
    "column_names = iris['feature_names']\n",
    "values = iris['data']\n",
    "labels = iris['target']"
   ]
  },
  {
   "cell_type": "code",
   "execution_count": 13,
   "metadata": {},
   "outputs": [
    {
     "name": "stdout",
     "output_type": "stream",
     "text": [
      "updating: Node(150;depth=0;G=0.667) / Divisor(sepal length (cm) <> 4.800)\n",
      "updating: Node(150;depth=0;G=0.667) / Divisor(petal length (cm) <> 3.250)\n",
      "updating: Node(150;depth=0;G=0.667) / Divisor(petal length (cm) <> 3.000)\n",
      "--> G=0.500; ∆=0.167\n",
      "no more growth on: Node(50;depth=1;G=0.000)\n",
      "updating: Node(100;depth=1;G=0.500) / Divisor(sepal length (cm) <> 7.050)\n",
      "updating: Node(100;depth=1;G=0.500) / Divisor(petal length (cm) <> 4.600)\n",
      "updating: Node(100;depth=1;G=0.500) / Divisor(petal length (cm) <> 4.700)\n",
      "updating: Node(100;depth=1;G=0.500) / Divisor(petal length (cm) <> 5.100)\n",
      "updating: Node(100;depth=1;G=0.500) / Divisor(petal length (cm) <> 4.800)\n",
      "updating: Node(100;depth=1;G=0.500) / Divisor(petal length (cm) <> 4.750)\n",
      "updating: Node(100;depth=1;G=0.500) / Divisor(petal width (cm) <> 1.750)\n",
      "--> G=0.211; ∆=0.289\n",
      "no more growth on: Node(50;depth=1;G=0.000)\n",
      "updating: Node(54;depth=2;G=0.168) / Divisor(petal length (cm) <> 5.600)\n",
      "no nice divisor found for: Node(46;depth=2;G=0.043)\n",
      "--> G=0.151; ∆=0.059\n",
      "no more growth on: Node(50;depth=1;G=0.000)\n",
      "no nice divisor found for: Node(52;depth=3;G=0.109)\n",
      "no more growth on: Node(2;depth=3;G=0.000)\n",
      "both children did not grow for: Node(54;depth=2;G=0.168)\n",
      "no nice divisor found for: Node(46;depth=2;G=0.043)\n",
      "both children did not grow for: Node(100;depth=1;G=0.500)\n",
      "both children did not grow for: Node(150;depth=0;G=0.667)\n",
      "*** G=0.151\n",
      "*** cannot grow more\n"
     ]
    }
   ],
   "source": [
    "tree = build_decision_tree(values, labels, column_names, logging=True)"
   ]
  },
  {
   "cell_type": "markdown",
   "metadata": {},
   "source": [
    "この決定木の構造を確認"
   ]
  },
  {
   "cell_type": "code",
   "execution_count": 14,
   "metadata": {
    "scrolled": true
   },
   "outputs": [
    {
     "name": "stdout",
     "output_type": "stream",
     "text": [
      "-> ? petal length (cm) <> 3.0 (G=0.667)\n",
      "    -> [50, 0, 0] (G=0.000)\n",
      "    -> ? petal width (cm) <> 1.75 (G=0.500)\n",
      "        -> ? petal length (cm) <> 5.6 (G=0.168)\n",
      "            -> [0, 49, 3] (G=0.109)\n",
      "            -> [0, 0, 2] (G=0.000)\n",
      "        -> [0, 1, 45] (G=0.043)\n"
     ]
    }
   ],
   "source": [
    "tree.format()"
   ]
  },
  {
   "cell_type": "code",
   "execution_count": 15,
   "metadata": {},
   "outputs": [
    {
     "name": "stdout",
     "output_type": "stream",
     "text": [
      "146/150 successful (2.67% error)\n"
     ]
    }
   ],
   "source": [
    "validation = tree.validate(values, labels)\n",
    "size  = validation.size\n",
    "succ  = np.count_nonzero(validation)\n",
    "erate = (size - succ)*100/size\n",
    "print(f\"{succ}/{size} successful ({erate:.2f}% error)\")"
   ]
  },
  {
   "cell_type": "markdown",
   "metadata": {},
   "source": [
    "## ランダムフォレスト\n",
    "\n",
    "### ランダムフォレストの実装\n"
   ]
  },
  {
   "cell_type": "code",
   "execution_count": 16,
   "metadata": {},
   "outputs": [],
   "source": [
    "class RandomForest:\n",
    "    \"\"\"ランダムフォレストのフィッティングを行なうクラス\"\"\"\n",
    "    random_state = 539167\n",
    "    \n",
    "    def __init__(self, n_estimators=100, random_state=None, column_names=None, logging=False):\n",
    "        self.n_estimators = n_estimators\n",
    "        self.column_names = column_names\n",
    "        if random_state is not None:\n",
    "            self.random_state = random_state\n",
    "        self.logging      = logging\n",
    "        self.estimators   = None\n",
    "        self.labels       = None\n",
    "    \n",
    "    def fit(self, values, labels):\n",
    "        self.estimators = []\n",
    "        self.labels     = sorted(set(labels))\n",
    "        \n",
    "        size    = values.shape[0]\n",
    "        indices = np.arange(size)\n",
    "        \n",
    "        np.random.seed(self.random_state)\n",
    "        for i in range(self.n_estimators):\n",
    "            _indices   = np.random.choice(indices, size=size, replace=True)\n",
    "            _labels    = labels[_indices]\n",
    "            _values    = values[_indices,:]\n",
    "            _estimator = build_decision_tree(_values, _labels, self.column_names, logging=self.logging)\n",
    "            self.estimators.append(_estimator)\n",
    "        return self\n",
    "    \n",
    "    def predict_proba(self, values):\n",
    "        if self.estimators is None:\n",
    "            raise RuntimeError(\"call 'fit' before prediction\")\n",
    "        # 各決定木から予測をとる：(observations x estimators)\n",
    "        predictions = np.stack([est.predict(values) for est in self.estimators], axis=-1)\n",
    "        # 予測をカテゴリ値ごとの統計に変換：(observations x categories)\n",
    "        votes = np.stack([(predictions == lab).sum(-1) for lab in self.labels], axis=-1)\n",
    "        probs = votes / (self.n_estimators)\n",
    "        return probs # (observations x categories)\n",
    "    \n",
    "    def predict(self, values):\n",
    "        probs = self.predict_proba(values)\n",
    "        return np.array([self.labels[probs[i].argmax()] for i in range(values.shape[0])])\n",
    "    \n",
    "    def validate(self, values, labels):\n",
    "        pred = self.predict(values)\n",
    "        return (pred == labels)"
   ]
  },
  {
   "cell_type": "code",
   "execution_count": 17,
   "metadata": {},
   "outputs": [
    {
     "name": "stdout",
     "output_type": "stream",
     "text": [
      "  forest: 99/150 successful (34.00% error)\n",
      "    tree: 72/150 successful (52.00% error)\n"
     ]
    }
   ],
   "source": [
    "_values = iris['data'][:,:2]\n",
    "_labels = iris['target']\n",
    "_names  = iris['feature_names']\n",
    "\n",
    "forest = RandomForest(n_estimators=100, column_names=_names).fit(_values, _labels)\n",
    "tree   = build_decision_tree(_values, _labels, column_names=_names)\n",
    "\n",
    "for model, label in ((forest, 'forest'), (tree, 'tree')):\n",
    "    validation = model.validate(_values, _labels)\n",
    "    size  = validation.size\n",
    "    succ  = np.count_nonzero(validation)\n",
    "    erate = (size - succ)*100/size\n",
    "    print(f\"{label:>8s}: {succ}/{size} successful ({erate:.2f}% error)\")"
   ]
  },
  {
   "cell_type": "code",
   "execution_count": null,
   "metadata": {},
   "outputs": [],
   "source": []
  }
 ],
 "metadata": {
  "kernelspec": {
   "display_name": "Python 3",
   "language": "python",
   "name": "python3"
  },
  "language_info": {
   "codemirror_mode": {
    "name": "ipython",
    "version": 3
   },
   "file_extension": ".py",
   "mimetype": "text/x-python",
   "name": "python",
   "nbconvert_exporter": "python",
   "pygments_lexer": "ipython3",
   "version": "3.7.3"
  }
 },
 "nbformat": 4,
 "nbformat_minor": 2
}
