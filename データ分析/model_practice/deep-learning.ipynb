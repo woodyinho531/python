{
 "cells": [
  {
   "cell_type": "markdown",
   "metadata": {},
   "source": [
    "# ディープラーニング"
   ]
  },
  {
   "cell_type": "code",
   "execution_count": 1,
   "metadata": {},
   "outputs": [],
   "source": [
    "%matplotlib inline\n",
    "import numpy as np\n",
    "import matplotlib.pyplot as plt\n",
    "import pandas as pd\n",
    "\n",
    "import tensorflow as tf\n",
    "from sklearn.model_selection import train_test_split\n",
    "\n",
    "from tensorflow import keras\n",
    "from tensorflow.keras.layers import Dense, Activation"
   ]
  },
  {
   "cell_type": "markdown",
   "metadata": {},
   "source": [
    "## TensorFlow\n",
    "\n",
    "### Low-Level API\n",
    "\n",
    "インポートしたTensorFlowを使って $y = x^2 + 2$ を定義"
   ]
  },
  {
   "cell_type": "code",
   "execution_count": 2,
   "metadata": {},
   "outputs": [
    {
     "name": "stdout",
     "output_type": "stream",
     "text": [
      "Tensor(\"x:0\", dtype=float32)\n",
      "Tensor(\"2:0\", shape=(), dtype=float32)\n",
      "Tensor(\"add:0\", dtype=float32)\n"
     ]
    }
   ],
   "source": [
    "x = tf.placeholder(tf.float32, name=\"x\")\n",
    "c = tf.constant(2.0, name=\"2\")\n",
    "y = x**c + c\n",
    "\n",
    "print(x)\n",
    "print(c)\n",
    "print(y)"
   ]
  },
  {
   "cell_type": "code",
   "execution_count": 3,
   "metadata": {},
   "outputs": [
    {
     "data": {
      "text/plain": [
       "11.0"
      ]
     },
     "execution_count": 3,
     "metadata": {},
     "output_type": "execute_result"
    }
   ],
   "source": [
    "sess = tf.Session()\n",
    "sess.run(y, feed_dict={ x: 3 })"
   ]
  },
  {
   "cell_type": "code",
   "execution_count": 4,
   "metadata": {},
   "outputs": [
    {
     "data": {
      "text/plain": [
       "(array(3., dtype=float32), 11.0)"
      ]
     },
     "execution_count": 4,
     "metadata": {},
     "output_type": "execute_result"
    }
   ],
   "source": [
    "sess.run((x,y), feed_dict={ x: 3 })"
   ]
  },
  {
   "cell_type": "code",
   "execution_count": 5,
   "metadata": {},
   "outputs": [
    {
     "data": {
      "text/plain": [
       "{'input': array(3., dtype=float32), 'output': 11.0}"
      ]
     },
     "execution_count": 5,
     "metadata": {},
     "output_type": "execute_result"
    }
   ],
   "source": [
    "sess.run({'input': x, 'output': y}, feed_dict={ x: 3 })"
   ]
  },
  {
   "cell_type": "code",
   "execution_count": 6,
   "metadata": {},
   "outputs": [
    {
     "data": {
      "text/plain": [
       "array([  2.,   3.,   6.,  11.,  18.,  27.,  38.,  51.,  66.,  83., 102.,\n",
       "       123., 146., 171., 198., 227., 258., 291., 326., 363.],\n",
       "      dtype=float32)"
      ]
     },
     "execution_count": 6,
     "metadata": {},
     "output_type": "execute_result"
    }
   ],
   "source": [
    "sess.run(y, feed_dict={ x: np.arange(20) })"
   ]
  },
  {
   "cell_type": "code",
   "execution_count": 7,
   "metadata": {},
   "outputs": [],
   "source": [
    "writer = tf.summary.FileWriter('tb_sample')\n",
    "writer.add_graph(tf.get_default_graph())\n",
    "writer.flush()"
   ]
  },
  {
   "cell_type": "markdown",
   "metadata": {},
   "source": [
    "## TensorFlowを用いた予測(Regression)モデルの実装\n"
   ]
  },
  {
   "cell_type": "code",
   "execution_count": 8,
   "metadata": {},
   "outputs": [],
   "source": [
    "tab = pd.read_csv(\"baseball_salary.csv\")"
   ]
  },
  {
   "cell_type": "code",
   "execution_count": 9,
   "metadata": {},
   "outputs": [
    {
     "data": {
      "text/html": [
       "<div>\n",
       "<style scoped>\n",
       "    .dataframe tbody tr th:only-of-type {\n",
       "        vertical-align: middle;\n",
       "    }\n",
       "\n",
       "    .dataframe tbody tr th {\n",
       "        vertical-align: top;\n",
       "    }\n",
       "\n",
       "    .dataframe thead th {\n",
       "        text-align: right;\n",
       "    }\n",
       "</style>\n",
       "<table border=\"1\" class=\"dataframe\">\n",
       "  <thead>\n",
       "    <tr style=\"text-align: right;\">\n",
       "      <th></th>\n",
       "      <th>球団</th>\n",
       "      <th>推定年俸</th>\n",
       "      <th>守備</th>\n",
       "      <th>年数</th>\n",
       "      <th>年齢</th>\n",
       "      <th>身長</th>\n",
       "      <th>体重</th>\n",
       "      <th>血液型</th>\n",
       "      <th>投打</th>\n",
       "      <th>年</th>\n",
       "      <th>...</th>\n",
       "      <th>併殺打</th>\n",
       "      <th>出塁率</th>\n",
       "      <th>長打率</th>\n",
       "      <th>OPS</th>\n",
       "      <th>RC27</th>\n",
       "      <th>XR27</th>\n",
       "      <th>球団勝率</th>\n",
       "      <th>プレーオフ</th>\n",
       "      <th>球団平均得点</th>\n",
       "      <th>球団打率</th>\n",
       "    </tr>\n",
       "  </thead>\n",
       "  <tbody>\n",
       "    <tr>\n",
       "      <th>0</th>\n",
       "      <td>c</td>\n",
       "      <td>21000</td>\n",
       "      <td>外野手</td>\n",
       "      <td>11</td>\n",
       "      <td>29</td>\n",
       "      <td>177</td>\n",
       "      <td>90</td>\n",
       "      <td>AB型</td>\n",
       "      <td>右左</td>\n",
       "      <td>2017</td>\n",
       "      <td>...</td>\n",
       "      <td>6</td>\n",
       "      <td>0.398</td>\n",
       "      <td>0.505</td>\n",
       "      <td>0.903</td>\n",
       "      <td>7.70</td>\n",
       "      <td>7.52</td>\n",
       "      <td>0.633</td>\n",
       "      <td>2</td>\n",
       "      <td>5.15</td>\n",
       "      <td>0.273</td>\n",
       "    </tr>\n",
       "    <tr>\n",
       "      <th>1</th>\n",
       "      <td>c</td>\n",
       "      <td>19000</td>\n",
       "      <td>内野手</td>\n",
       "      <td>7</td>\n",
       "      <td>28</td>\n",
       "      <td>171</td>\n",
       "      <td>72</td>\n",
       "      <td>A型</td>\n",
       "      <td>右右</td>\n",
       "      <td>2017</td>\n",
       "      <td>...</td>\n",
       "      <td>9</td>\n",
       "      <td>0.311</td>\n",
       "      <td>0.405</td>\n",
       "      <td>0.716</td>\n",
       "      <td>4.10</td>\n",
       "      <td>4.01</td>\n",
       "      <td>0.633</td>\n",
       "      <td>2</td>\n",
       "      <td>5.15</td>\n",
       "      <td>0.273</td>\n",
       "    </tr>\n",
       "    <tr>\n",
       "      <th>2</th>\n",
       "      <td>c</td>\n",
       "      <td>14000</td>\n",
       "      <td>内野手</td>\n",
       "      <td>5</td>\n",
       "      <td>29</td>\n",
       "      <td>171</td>\n",
       "      <td>85</td>\n",
       "      <td>A型</td>\n",
       "      <td>右左</td>\n",
       "      <td>2017</td>\n",
       "      <td>...</td>\n",
       "      <td>5</td>\n",
       "      <td>0.398</td>\n",
       "      <td>0.407</td>\n",
       "      <td>0.805</td>\n",
       "      <td>6.41</td>\n",
       "      <td>6.26</td>\n",
       "      <td>0.633</td>\n",
       "      <td>2</td>\n",
       "      <td>5.15</td>\n",
       "      <td>0.273</td>\n",
       "    </tr>\n",
       "    <tr>\n",
       "      <th>3</th>\n",
       "      <td>c</td>\n",
       "      <td>11500</td>\n",
       "      <td>内野手</td>\n",
       "      <td>7</td>\n",
       "      <td>38</td>\n",
       "      <td>196</td>\n",
       "      <td>126</td>\n",
       "      <td>不明</td>\n",
       "      <td>右右</td>\n",
       "      <td>2017</td>\n",
       "      <td>...</td>\n",
       "      <td>8</td>\n",
       "      <td>0.368</td>\n",
       "      <td>0.532</td>\n",
       "      <td>0.900</td>\n",
       "      <td>6.80</td>\n",
       "      <td>6.90</td>\n",
       "      <td>0.633</td>\n",
       "      <td>2</td>\n",
       "      <td>5.15</td>\n",
       "      <td>0.273</td>\n",
       "    </tr>\n",
       "    <tr>\n",
       "      <th>4</th>\n",
       "      <td>c</td>\n",
       "      <td>11000</td>\n",
       "      <td>内野手</td>\n",
       "      <td>20</td>\n",
       "      <td>41</td>\n",
       "      <td>189</td>\n",
       "      <td>102</td>\n",
       "      <td>B型</td>\n",
       "      <td>右右</td>\n",
       "      <td>2017</td>\n",
       "      <td>...</td>\n",
       "      <td>7</td>\n",
       "      <td>0.389</td>\n",
       "      <td>0.461</td>\n",
       "      <td>0.850</td>\n",
       "      <td>6.55</td>\n",
       "      <td>6.54</td>\n",
       "      <td>0.633</td>\n",
       "      <td>2</td>\n",
       "      <td>5.15</td>\n",
       "      <td>0.273</td>\n",
       "    </tr>\n",
       "  </tbody>\n",
       "</table>\n",
       "<p>5 rows × 32 columns</p>\n",
       "</div>"
      ],
      "text/plain": [
       "  球団   推定年俸   守備  年数  年齢   身長   体重  血液型  投打     年  ...    併殺打    出塁率    長打率  \\\n",
       "0  c  21000  外野手  11  29  177   90  AB型  右左  2017  ...      6  0.398  0.505   \n",
       "1  c  19000  内野手   7  28  171   72   A型  右右  2017  ...      9  0.311  0.405   \n",
       "2  c  14000  内野手   5  29  171   85   A型  右左  2017  ...      5  0.398  0.407   \n",
       "3  c  11500  内野手   7  38  196  126   不明  右右  2017  ...      8  0.368  0.532   \n",
       "4  c  11000  内野手  20  41  189  102   B型  右右  2017  ...      7  0.389  0.461   \n",
       "\n",
       "     OPS  RC27  XR27   球団勝率  プレーオフ  球団平均得点   球団打率  \n",
       "0  0.903  7.70  7.52  0.633      2    5.15  0.273  \n",
       "1  0.716  4.10  4.01  0.633      2    5.15  0.273  \n",
       "2  0.805  6.41  6.26  0.633      2    5.15  0.273  \n",
       "3  0.900  6.80  6.90  0.633      2    5.15  0.273  \n",
       "4  0.850  6.55  6.54  0.633      2    5.15  0.273  \n",
       "\n",
       "[5 rows x 32 columns]"
      ]
     },
     "execution_count": 9,
     "metadata": {},
     "output_type": "execute_result"
    }
   ],
   "source": [
    "# 先頭の5行を表示\n",
    "tab.head(5)"
   ]
  },
  {
   "cell_type": "code",
   "execution_count": 10,
   "metadata": {},
   "outputs": [
    {
     "data": {
      "text/plain": [
       "Index(['球団', '推定年俸', '守備', '年数', '年齢', '身長', '体重', '血液型', '投打', '年', '打率',\n",
       "       '試合', '打席数', '打数', '安打', '本塁打', '打点', '盗塁', '四球', '死球', '三振', '犠打',\n",
       "       '併殺打', '出塁率', '長打率', 'OPS', 'RC27', 'XR27', '球団勝率', 'プレーオフ', '球団平均得点',\n",
       "       '球団打率'],\n",
       "      dtype='object')"
      ]
     },
     "execution_count": 10,
     "metadata": {},
     "output_type": "execute_result"
    }
   ],
   "source": [
    "# すべての列名を確認\n",
    "tab.columns"
   ]
  },
  {
   "cell_type": "code",
   "execution_count": 11,
   "metadata": {
    "scrolled": true
   },
   "outputs": [],
   "source": [
    "# 利用する特徴量を選択する\n",
    "input_columns = ['年数','身長','体重','打率','試合',\n",
    "                '打席数','打数','安打','本塁打','打点',\n",
    "                '盗塁','四球','死球','三振','犠打','併殺打',\n",
    "               '出塁率','長打率']\n",
    "salary_column = ['推定年俸']\n",
    "\n",
    "data_columns = salary_column + input_columns"
   ]
  },
  {
   "cell_type": "code",
   "execution_count": 12,
   "metadata": {},
   "outputs": [],
   "source": [
    "def get_scalers(table, colname):\n",
    "    \"\"\"tableのカラムcolnameに対して、min–max scalingを行う関数、元に戻す関数を返す\"\"\"\n",
    "    values = table[colname].values\n",
    "    vmin   = values.min()\n",
    "    vmax   = values.max()\n",
    "    scale  = vmax - vmin\n",
    "    def _scale(tab):\n",
    "        return (tab[colname].values - vmin)/scale\n",
    "    def _descale(values):\n",
    "        return values*scale + vmin\n",
    "    return dict(scale=_scale, descale=_descale)"
   ]
  },
  {
   "cell_type": "code",
   "execution_count": 13,
   "metadata": {},
   "outputs": [],
   "source": [
    "# 特徴量ごとのmin–max scalerの辞書を作成\n",
    "scalers = dict((name, get_scalers(tab, name)) for name in data_columns)"
   ]
  },
  {
   "cell_type": "code",
   "execution_count": 14,
   "metadata": {},
   "outputs": [],
   "source": [
    "# 正規化された特徴量ベクトルのデータセット\n",
    "data = np.stack([scalers[name]['scale'](tab) for name in data_columns], axis=1)"
   ]
  },
  {
   "cell_type": "code",
   "execution_count": 15,
   "metadata": {},
   "outputs": [],
   "source": [
    "# データセットを分割\n",
    "data_train, data_test = train_test_split(data, test_size=0.2)\n",
    "data_train, data_validation = train_test_split(data_train, test_size=0.2)"
   ]
  },
  {
   "cell_type": "code",
   "execution_count": 16,
   "metadata": {},
   "outputs": [
    {
     "data": {
      "text/plain": [
       "(19, (153, 19), (39, 19), (49, 19))"
      ]
     },
     "execution_count": 16,
     "metadata": {},
     "output_type": "execute_result"
    }
   ],
   "source": [
    "# 分割したデータのshapeを確認しておく\n",
    "len(data_columns), data_train.shape, data_validation.shape, data_test.shape"
   ]
  },
  {
   "cell_type": "markdown",
   "metadata": {},
   "source": [
    "### 年俸予測モデルを実装する"
   ]
  },
  {
   "cell_type": "code",
   "execution_count": 17,
   "metadata": {},
   "outputs": [],
   "source": [
    "# 隠れ層のニューロン数などのパラメータを定義\n",
    "n_features = len(input_columns)\n",
    "n_hidden   = 4\n",
    "bias_init = 0.1\n",
    "\n",
    "n_iter = 30000"
   ]
  },
  {
   "cell_type": "code",
   "execution_count": 18,
   "metadata": {
    "scrolled": true
   },
   "outputs": [
    {
     "name": "stdout",
     "output_type": "stream",
     "text": [
      "WARNING:tensorflow:From /home/ec2-user/.pyenv/versions/3.6.5/lib/python3.6/site-packages/tensorflow/python/framework/op_def_library.py:263: colocate_with (from tensorflow.python.framework.ops) is deprecated and will be removed in a future version.\n",
      "Instructions for updating:\n",
      "Colocations handled automatically by placer.\n",
      "WARNING:tensorflow:From /home/ec2-user/.pyenv/versions/3.6.5/lib/python3.6/site-packages/tensorflow/python/ops/losses/losses_impl.py:667: to_float (from tensorflow.python.ops.math_ops) is deprecated and will be removed in a future version.\n",
      "Instructions for updating:\n",
      "Use tf.cast instead.\n",
      ".......... .......... .......... .......... .......... .......... "
     ]
    }
   ],
   "source": [
    "def inference(features):\n",
    "    \"\"\"入力データfeaturesに対して出力データを生成するモデルを定義し、\n",
    "    出力データに対応するノードを返す\"\"\"\n",
    "    \n",
    "    # 隠れ層の定義\n",
    "    with tf.name_scope('hidden'):\n",
    "        # 重みの定義と初期化指示\n",
    "        weight1 = tf.Variable(tf.truncated_normal([n_features, n_hidden], stddev=0.1), name=\"weight1\")\n",
    "        bias1   = tf.Variable(tf.constant(bias_init, shape=[n_hidden]), name=\"bias1\")\n",
    "        \n",
    "        # 出力の活性化関数\n",
    "        output1    = tf.nn.relu(tf.matmul(features, weight1) + bias1) # (n_hidden,)の配列\n",
    "    \n",
    "    # 出力層（出力ユニット）の定義\n",
    "    with tf.name_scope('output'):\n",
    "        # 重みの定義と初期化指示\n",
    "        weight2 = tf.Variable(tf.truncated_normal([n_hidden, 1], stddev=0.1), name=\"weight2\")\n",
    "        bias2   = tf.Variable(tf.constant(bias_init, shape=[1]), name=\"bias2\")\n",
    "        \n",
    "        # 出力の活性化関数（output1が参照できていることに注意）\n",
    "        output2    = tf.nn.relu(tf.matmul(output1, weight2) + bias2)\n",
    "        \n",
    "    return output2\n",
    "\n",
    "def training(loss, rate=0.01):\n",
    "    \"\"\"トレーニングのイテレーション（勾配降下法で誤差を最小にする）の定義\"\"\"\n",
    "    with tf.name_scope('training'):\n",
    "        iteration = tf.train.GradientDescentOptimizer(rate).minimize(loss)\n",
    "        return iteration\n",
    "\n",
    "# エラーを保存する場所を用意\n",
    "bias     = np.empty(n_iter, dtype=float)\n",
    "variance = np.empty(n_iter, dtype=float)\n",
    "\n",
    "with tf.Graph().as_default():\n",
    "    \n",
    "    # 教師データ用プレースホルダ\n",
    "    salary      = tf.placeholder(tf.float32, shape=[None,1], name=\"salary\")\n",
    "    # 入力データ用プレースホルダ\n",
    "    features    = tf.placeholder(tf.float32, shape=[None,n_features], name=\"features\")\n",
    "    \n",
    "    # 定義したプレースホルダをもとに、モデルを生成\n",
    "    output    = inference(features)\n",
    "    with tf.name_scope('loss'):\n",
    "        lossvalue = tf.losses.mean_squared_error(salary, output)\n",
    "    iteration = training(lossvalue)\n",
    "    \n",
    "    # 変数の初期化方法の設定\n",
    "    init          = tf.global_variables_initializer()\n",
    "    \n",
    "    # プレースホルダに投入するデータの設定\n",
    "    training_data   = { features:  data_train[:,1:], \n",
    "                          salary:  data_train[:,:1] }\n",
    "    validation_data = { features:  data_validation[:,1:],\n",
    "                          salary:  data_validation[:,:1] }\n",
    "    test_data       = { features:  data_test[:,1:],\n",
    "                          salary:  data_test[:,:1] }\n",
    "    \n",
    "    # グラフを保存\n",
    "    writer = tf.summary.FileWriter('summary')\n",
    "    writer.add_graph(tf.get_default_graph())\n",
    "    writer.flush()\n",
    "    \n",
    "    # セッションを開始して、訓練をおこなう\n",
    "    with tf.Session() as sess:\n",
    "        # 変数の初期化\n",
    "        sess.run(init)\n",
    "        for i in range(n_iter):\n",
    "            # 訓練\n",
    "            _, bias[i]  = sess.run((iteration, lossvalue), feed_dict=training_data)\n",
    "            # バリデーション\n",
    "            variance[i] = sess.run(lossvalue, feed_dict=validation_data)\n",
    "            if i % 500 == 499:\n",
    "                print('.', end=' ' if i % 5000 == 4999 else '', flush=True)\n",
    "        \n",
    "        # テストデータの予測\n",
    "        test_pred, test_error = sess.run((output, lossvalue), feed_dict=test_data)"
   ]
  },
  {
   "cell_type": "code",
   "execution_count": 20,
   "metadata": {},
   "outputs": [
    {
     "data": {
      "image/png": "[encoded data removed]",
      "text/plain": [
       "<Figure size 288x288 with 1 Axes>"
      ]
     },
     "metadata": {
      "needs_background": "light"
     },
     "output_type": "display_data"
    }
   ],
   "source": [
    "fig = plt.figure(figsize=(4,4))\n",
    "descaler = scalers['推定年俸']['descale']\n",
    "plt.plot(descaler(data_test[:,0]), descaler(test_pred), 'k.')\n",
    "plt.yscale('log')\n",
    "plt.xscale('log')\n",
    "plt.xlabel(\"true data\")\n",
    "plt.ylabel(\"prediction\")\n",
    "plt.subplots_adjust(bottom=.2, left=.2)\n",
    "fig.savefig(\"images/tf_regression_prediction.png\")\n",
    "plt.show()"
   ]
  },
  {
   "cell_type": "code",
   "execution_count": 21,
   "metadata": {},
   "outputs": [
    {
     "data": {
      "image/png": "[encoded data removed]",
      "text/plain": [
       "<Figure size 288x288 with 1 Axes>"
      ]
     },
     "metadata": {
      "needs_background": "light"
     },
     "output_type": "display_data"
    }
   ],
   "source": [
    "fig = plt.figure(figsize=(4, 4))\n",
    "plt.plot(bias, label='bias')\n",
    "plt.plot(variance, label='variance')\n",
    "plt.legend(frameon=False)\n",
    "plt.xlabel(\"# iteration\")\n",
    "plt.ylabel(\"MSE\")\n",
    "plt.subplots_adjust(bottom=.2, left=.2)\n",
    "fig.savefig('images/tf_regression_errors.png')\n",
    "plt.show()"
   ]
  },
  {
   "cell_type": "markdown",
   "metadata": {},
   "source": [
    "### Early stopping\n",
    "\n",
    "「今までの最小バリアンスよりも0.01%以上大きくなったら訓練をやめる」というロジックを組み込む"
   ]
  },
  {
   "cell_type": "code",
   "execution_count": 22,
   "metadata": {},
   "outputs": [
    {
     "name": "stdout",
     "output_type": "stream",
     "text": [
      "abort(1)\n"
     ]
    }
   ],
   "source": [
    "# 最小のバリデーション誤差を保存しておく\n",
    "min_mse = np.inf\n",
    "# Early stoppingをかける閾値となるMSEの大きさ\n",
    "threshold = 1.0001\n",
    "\n",
    "with tf.Graph().as_default():\n",
    "    \n",
    "    # 教師データ用プレースホルダ\n",
    "    salary      = tf.placeholder(tf.float32, shape=[None,1], name=\"salary\")\n",
    "    # 入力データ用プレースホルダ\n",
    "    features    = tf.placeholder(tf.float32, shape=[None,n_features], name=\"features\")\n",
    "    \n",
    "    # 定義したプレースホルダをもとに、モデルを生成\n",
    "    output    = inference(features)\n",
    "    with tf.name_scope('loss'):\n",
    "        lossvalue = tf.losses.mean_squared_error(salary, output)\n",
    "    iteration = training(lossvalue)\n",
    "    \n",
    "    # 変数の初期化方法の設定\n",
    "    init          = tf.global_variables_initializer()\n",
    "    \n",
    "    # プレースホルダに投入するデータの設定\n",
    "    training_data   = { features:  data_train[:,1:], \n",
    "                          salary:  data_train[:,:1] }\n",
    "    validation_data = { features:  data_validation[:,1:],\n",
    "                          salary:  data_validation[:,:1] }\n",
    "    test_data       = { features:  data_test[:,1:],\n",
    "                          salary:  data_test[:,:1] }\n",
    "    \n",
    "    # セッションを開始して、訓練をおこなう\n",
    "    with tf.Session() as sess:\n",
    "        # 変数の初期化\n",
    "        sess.run(init)\n",
    "        for i in range(n_iter):\n",
    "            # 訓練\n",
    "            _, _  = sess.run((iteration, lossvalue), feed_dict=training_data)\n",
    "            # バリデーション\n",
    "            var = sess.run(lossvalue, feed_dict=validation_data)\n",
    "            if var < min_mse:\n",
    "                min_mse = var\n",
    "            elif var > (min_mse * threshold):\n",
    "                # バリアンスが大きくなってきた\n",
    "                print(f\"abort({i})\")\n",
    "                total_iterations = i\n",
    "                break\n",
    "                \n",
    "            if i % 500 == 499:\n",
    "                print('.', end=' ' if i % 5000 == 4999 else '', flush=True)\n",
    "        \n",
    "        # テストデータの予測\n",
    "        test_pred_early, test_error_early = sess.run((output, lossvalue), feed_dict=test_data)"
   ]
  },
  {
   "cell_type": "code",
   "execution_count": 23,
   "metadata": {},
   "outputs": [
    {
     "data": {
      "image/png": "[encoded data removed]",
      "text/plain": [
       "<Figure size 288x288 with 1 Axes>"
      ]
     },
     "metadata": {
      "needs_background": "light"
     },
     "output_type": "display_data"
    }
   ],
   "source": [
    "fig = plt.figure(figsize=(4, 4))\n",
    "plt.plot(bias, label='bias')\n",
    "plt.plot(variance, label='variance')\n",
    "plt.vlines(total_iterations, 0.005, 0.06, color='k', linestyles='dashed', linewidth=1.5, label='early stopping')\n",
    "plt.legend(frameon=False)\n",
    "plt.xlabel(\"# iteration\")\n",
    "plt.ylabel(\"MSE\")\n",
    "plt.ylim(0.005, 0.06)\n",
    "plt.subplots_adjust(bottom=.2, left=.2)\n",
    "fig.savefig('images/tf_earlystopping_errors.png')\n",
    "plt.show()"
   ]
  },
  {
   "cell_type": "code",
   "execution_count": 24,
   "metadata": {},
   "outputs": [
    {
     "data": {
      "image/png": "[encoded data removed]",
      "text/plain": [
       "<Figure size 288x288 with 1 Axes>"
      ]
     },
     "metadata": {
      "needs_background": "light"
     },
     "output_type": "display_data"
    }
   ],
   "source": [
    "# 散布図を描画する\n",
    "fig = plt.figure(figsize=(4,4))\n",
    "descaler = scalers['推定年俸']['descale']\n",
    "plt.plot(descaler(data_test[:,0]), descaler(test_pred_early), 'k.')\n",
    "plt.yscale('log')\n",
    "plt.xscale('log')\n",
    "plt.xlabel(\"true data\")\n",
    "plt.ylabel(\"prediction\")\n",
    "plt.subplots_adjust(bottom=.2, left=.2)\n",
    "fig.savefig(\"images/tf_earlystopping_prediction.png\")\n",
    "plt.show()"
   ]
  },
  {
   "cell_type": "markdown",
   "metadata": {},
   "source": [
    "## Keras\n",
    "\n",
    "### Keras(High-level API)によるモデル構築\n"
   ]
  },
  {
   "cell_type": "code",
   "execution_count": 25,
   "metadata": {},
   "outputs": [],
   "source": [
    "# パラメータの設定\n",
    "n_features = len(input_columns)\n",
    "n_hidden   = 4\n",
    "bias_init  = 0.1\n",
    "\n",
    "# 学習率\n",
    "rate       = 0.01\n",
    "\n",
    "model = keras.Sequential()\n",
    "# 隠れ層の追加\n",
    "model.add(Dense(n_hidden, activation='relu', input_shape=(n_features,),\n",
    "                kernel_initializer=keras.initializers.TruncatedNormal(stddev=0.1),\n",
    "                bias_initializer=keras.initializers.constant(bias_init)))\n",
    "# 出力層の追加\n",
    "model.add(Dense(1, activation='relu', \n",
    "                kernel_initializer=keras.initializers.TruncatedNormal(stddev=0.1),\n",
    "                bias_initializer=keras.initializers.constant(bias_init)))\n",
    "\n",
    "# 勾配降下法を用いた二乗誤差の最小化スキームを利用して、TensorFlowのモデルを構築\n",
    "model.compile(optimizer=tf.train.GradientDescentOptimizer(rate),\n",
    "              loss='mse', metrics=['mae'])"
   ]
  },
  {
   "cell_type": "code",
   "execution_count": 26,
   "metadata": {
    "scrolled": true
   },
   "outputs": [
    {
     "name": "stdout",
     "output_type": "stream",
     "text": [
      "WARNING:tensorflow:From /home/ec2-user/.pyenv/versions/3.6.5/lib/python3.6/site-packages/tensorflow/python/ops/math_ops.py:3066: to_int32 (from tensorflow.python.ops.math_ops) is deprecated and will be removed in a future version.\n",
      "Instructions for updating:\n",
      "Use tf.cast instead.\n"
     ]
    }
   ],
   "source": [
    "# フィッティング\n",
    "log = model.fit(data_train[:,1:], data_train[:,:1], epochs=5000, batch_size=64, verbose=False,\n",
    "         validation_data=(data_validation[:,1:], data_validation[:,:1]))"
   ]
  },
  {
   "cell_type": "code",
   "execution_count": 27,
   "metadata": {},
   "outputs": [
    {
     "data": {
      "image/png": "[encoded data removed]",
      "text/plain": [
       "<Figure size 288x288 with 1 Axes>"
      ]
     },
     "metadata": {
      "needs_background": "light"
     },
     "output_type": "display_data"
    }
   ],
   "source": [
    "# グラフ表示\n",
    "fig = plt.figure(figsize=(4,4))\n",
    "plt.plot(log.history['loss'], label='loss')\n",
    "plt.plot(log.history['val_loss'], label='val_loss')\n",
    "plt.xlabel(\"# iteration\")\n",
    "plt.ylabel(\"MSE\")\n",
    "plt.legend(frameon=False)\n",
    "plt.subplots_adjust(bottom=.2, left=.2)\n",
    "fig.savefig('images/keras_regression_errors.png')\n",
    "plt.show()"
   ]
  },
  {
   "cell_type": "code",
   "execution_count": 28,
   "metadata": {},
   "outputs": [
    {
     "name": "stdout",
     "output_type": "stream",
     "text": [
      "Epoch 00101: early stopping\n"
     ]
    }
   ],
   "source": [
    "# パラメータの設定\n",
    "n_features = len(input_columns)\n",
    "n_hidden   = 4\n",
    "bias_init  = 0.1\n",
    "\n",
    "# 学習率\n",
    "rate       = 0.01\n",
    "\n",
    "model = keras.Sequential()\n",
    "# 隠れ層の追加\n",
    "model.add(Dense(n_hidden, activation='relu', input_shape=(n_features,),\n",
    "                kernel_initializer=keras.initializers.TruncatedNormal(stddev=0.1),\n",
    "                bias_initializer=keras.initializers.constant(bias_init)))\n",
    "# 出力層の追加\n",
    "model.add(Dense(1, activation='relu', \n",
    "                kernel_initializer=keras.initializers.TruncatedNormal(stddev=0.1),\n",
    "                bias_initializer=keras.initializers.constant(bias_init)))\n",
    "\n",
    "model.compile(optimizer=tf.train.GradientDescentOptimizer(rate),\n",
    "              loss='mse', metrics=['mae'])\n",
    "\n",
    "log = model.fit(data_train[:,1:], data_train[:,:1], epochs=3000, batch_size=64, verbose=False,\n",
    "                callbacks=[keras.callbacks.EarlyStopping(monitor='val_loss', \n",
    "                                                         min_delta=0, patience=100, \n",
    "                                                         verbose=1)],\n",
    "                validation_data=(data_validation[:,1:], data_validation[:,:1]))"
   ]
  },
  {
   "cell_type": "code",
   "execution_count": 29,
   "metadata": {
    "scrolled": true
   },
   "outputs": [
    {
     "data": {
      "text/plain": [
       "[<matplotlib.lines.Line2D at 0x7fc45770dfd0>]"
      ]
     },
     "execution_count": 29,
     "metadata": {},
     "output_type": "execute_result"
    },
    {
     "data": {
      "image/png": "[encoded data removed]",
      "text/plain": [
       "<Figure size 432x288 with 1 Axes>"
      ]
     },
     "metadata": {
      "needs_background": "light"
     },
     "output_type": "display_data"
    }
   ],
   "source": [
    "# グラフ表示\n",
    "plt.plot(log.history['val_loss'], label='val_loss')"
   ]
  },
  {
   "cell_type": "code",
   "execution_count": 30,
   "metadata": {},
   "outputs": [],
   "source": [
    "pred = model.predict(data_test[:,1:])"
   ]
  },
  {
   "cell_type": "code",
   "execution_count": 31,
   "metadata": {},
   "outputs": [
    {
     "data": {
      "image/png": "[encoded data removed]",
      "text/plain": [
       "<Figure size 288x288 with 1 Axes>"
      ]
     },
     "metadata": {
      "needs_background": "light"
     },
     "output_type": "display_data"
    }
   ],
   "source": [
    "# 散布図の表示\n",
    "fig = plt.figure(figsize=(4,4))\n",
    "descaler = scalers['推定年俸']['descale']\n",
    "plt.plot(descaler(data_test[:,0]), descaler(pred), 'k.')\n",
    "plt.yscale('log')\n",
    "plt.xscale('log')\n",
    "plt.xlabel(\"true data\")\n",
    "plt.ylabel(\"prediction\")\n",
    "plt.subplots_adjust(bottom=.2, left=.2)\n",
    "fig.savefig(\"images/keras_earlystopping_prediction.png\")\n",
    "plt.show()"
   ]
  },
  {
   "cell_type": "code",
   "execution_count": null,
   "metadata": {},
   "outputs": [],
   "source": []
  },
  {
   "cell_type": "code",
   "execution_count": null,
   "metadata": {},
   "outputs": [],
   "source": []
  },
  {
   "cell_type": "code",
   "execution_count": null,
   "metadata": {},
   "outputs": [],
   "source": []
  }
 ],
 "metadata": {
  "kernelspec": {
   "display_name": "Python 3",
   "language": "python",
   "name": "python3"
  },
  "language_info": {
   "codemirror_mode": {
    "name": "ipython",
    "version": 3
   },
   "file_extension": ".py",
   "mimetype": "text/x-python",
   "name": "python",
   "nbconvert_exporter": "python",
   "pygments_lexer": "ipython3",
   "version": "3.7.3"
  }
 },
 "nbformat": 4,
 "nbformat_minor": 2
}
