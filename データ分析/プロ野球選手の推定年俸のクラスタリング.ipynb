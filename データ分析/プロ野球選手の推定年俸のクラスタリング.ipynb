{
 "cells": [
  {
   "cell_type": "code",
   "execution_count": 1,
   "metadata": {},
   "outputs": [],
   "source": [
    "import numpy as np\n",
    "import matplotlib\n",
    "import matplotlib.pyplot as plt\n",
    "import pandas as pd\n",
    "from sklearn.cluster import KMeans\n",
    "from sklearn.preprocessing import MinMaxScaler\n",
    "\n",
    "%matplotlib inline"
   ]
  },
  {
   "cell_type": "code",
   "execution_count": 2,
   "metadata": {},
   "outputs": [],
   "source": [
    "# データ読み込み\n",
    "dataset = pd.read_csv(\"baseball_salary.csv\")"
   ]
  },
  {
   "cell_type": "code",
   "execution_count": 3,
   "metadata": {},
   "outputs": [
    {
     "data": {
      "text/html": [
       "<div>\n",
       "<style scoped>\n",
       "    .dataframe tbody tr th:only-of-type {\n",
       "        vertical-align: middle;\n",
       "    }\n",
       "\n",
       "    .dataframe tbody tr th {\n",
       "        vertical-align: top;\n",
       "    }\n",
       "\n",
       "    .dataframe thead th {\n",
       "        text-align: right;\n",
       "    }\n",
       "</style>\n",
       "<table border=\"1\" class=\"dataframe\">\n",
       "  <thead>\n",
       "    <tr style=\"text-align: right;\">\n",
       "      <th></th>\n",
       "      <th>球団</th>\n",
       "      <th>推定年俸</th>\n",
       "      <th>守備</th>\n",
       "      <th>年数</th>\n",
       "      <th>年齢</th>\n",
       "      <th>身長</th>\n",
       "      <th>体重</th>\n",
       "      <th>血液型</th>\n",
       "      <th>投打</th>\n",
       "      <th>年</th>\n",
       "      <th>...</th>\n",
       "      <th>併殺打</th>\n",
       "      <th>出塁率</th>\n",
       "      <th>長打率</th>\n",
       "      <th>OPS</th>\n",
       "      <th>RC27</th>\n",
       "      <th>XR27</th>\n",
       "      <th>球団勝率</th>\n",
       "      <th>プレーオフ</th>\n",
       "      <th>球団平均得点</th>\n",
       "      <th>球団打率</th>\n",
       "    </tr>\n",
       "  </thead>\n",
       "  <tbody>\n",
       "    <tr>\n",
       "      <th>0</th>\n",
       "      <td>c</td>\n",
       "      <td>21000</td>\n",
       "      <td>外野手</td>\n",
       "      <td>11</td>\n",
       "      <td>29</td>\n",
       "      <td>177</td>\n",
       "      <td>90</td>\n",
       "      <td>AB型</td>\n",
       "      <td>右左</td>\n",
       "      <td>2017</td>\n",
       "      <td>...</td>\n",
       "      <td>6</td>\n",
       "      <td>0.398</td>\n",
       "      <td>0.505</td>\n",
       "      <td>0.903</td>\n",
       "      <td>7.70</td>\n",
       "      <td>7.52</td>\n",
       "      <td>0.633</td>\n",
       "      <td>2</td>\n",
       "      <td>5.15</td>\n",
       "      <td>0.273</td>\n",
       "    </tr>\n",
       "    <tr>\n",
       "      <th>1</th>\n",
       "      <td>c</td>\n",
       "      <td>19000</td>\n",
       "      <td>内野手</td>\n",
       "      <td>7</td>\n",
       "      <td>28</td>\n",
       "      <td>171</td>\n",
       "      <td>72</td>\n",
       "      <td>A型</td>\n",
       "      <td>右右</td>\n",
       "      <td>2017</td>\n",
       "      <td>...</td>\n",
       "      <td>9</td>\n",
       "      <td>0.311</td>\n",
       "      <td>0.405</td>\n",
       "      <td>0.716</td>\n",
       "      <td>4.10</td>\n",
       "      <td>4.01</td>\n",
       "      <td>0.633</td>\n",
       "      <td>2</td>\n",
       "      <td>5.15</td>\n",
       "      <td>0.273</td>\n",
       "    </tr>\n",
       "    <tr>\n",
       "      <th>2</th>\n",
       "      <td>c</td>\n",
       "      <td>14000</td>\n",
       "      <td>内野手</td>\n",
       "      <td>5</td>\n",
       "      <td>29</td>\n",
       "      <td>171</td>\n",
       "      <td>85</td>\n",
       "      <td>A型</td>\n",
       "      <td>右左</td>\n",
       "      <td>2017</td>\n",
       "      <td>...</td>\n",
       "      <td>5</td>\n",
       "      <td>0.398</td>\n",
       "      <td>0.407</td>\n",
       "      <td>0.805</td>\n",
       "      <td>6.41</td>\n",
       "      <td>6.26</td>\n",
       "      <td>0.633</td>\n",
       "      <td>2</td>\n",
       "      <td>5.15</td>\n",
       "      <td>0.273</td>\n",
       "    </tr>\n",
       "    <tr>\n",
       "      <th>3</th>\n",
       "      <td>c</td>\n",
       "      <td>11500</td>\n",
       "      <td>内野手</td>\n",
       "      <td>7</td>\n",
       "      <td>38</td>\n",
       "      <td>196</td>\n",
       "      <td>126</td>\n",
       "      <td>不明</td>\n",
       "      <td>右右</td>\n",
       "      <td>2017</td>\n",
       "      <td>...</td>\n",
       "      <td>8</td>\n",
       "      <td>0.368</td>\n",
       "      <td>0.532</td>\n",
       "      <td>0.900</td>\n",
       "      <td>6.80</td>\n",
       "      <td>6.90</td>\n",
       "      <td>0.633</td>\n",
       "      <td>2</td>\n",
       "      <td>5.15</td>\n",
       "      <td>0.273</td>\n",
       "    </tr>\n",
       "    <tr>\n",
       "      <th>4</th>\n",
       "      <td>c</td>\n",
       "      <td>11000</td>\n",
       "      <td>内野手</td>\n",
       "      <td>20</td>\n",
       "      <td>41</td>\n",
       "      <td>189</td>\n",
       "      <td>102</td>\n",
       "      <td>B型</td>\n",
       "      <td>右右</td>\n",
       "      <td>2017</td>\n",
       "      <td>...</td>\n",
       "      <td>7</td>\n",
       "      <td>0.389</td>\n",
       "      <td>0.461</td>\n",
       "      <td>0.850</td>\n",
       "      <td>6.55</td>\n",
       "      <td>6.54</td>\n",
       "      <td>0.633</td>\n",
       "      <td>2</td>\n",
       "      <td>5.15</td>\n",
       "      <td>0.273</td>\n",
       "    </tr>\n",
       "  </tbody>\n",
       "</table>\n",
       "<p>5 rows × 32 columns</p>\n",
       "</div>"
      ],
      "text/plain": [
       "  球団   推定年俸   守備  年数  年齢   身長   体重  血液型  投打     年  ...  併殺打    出塁率    長打率  \\\n",
       "0  c  21000  外野手  11  29  177   90  AB型  右左  2017  ...    6  0.398  0.505   \n",
       "1  c  19000  内野手   7  28  171   72   A型  右右  2017  ...    9  0.311  0.405   \n",
       "2  c  14000  内野手   5  29  171   85   A型  右左  2017  ...    5  0.398  0.407   \n",
       "3  c  11500  内野手   7  38  196  126   不明  右右  2017  ...    8  0.368  0.532   \n",
       "4  c  11000  内野手  20  41  189  102   B型  右右  2017  ...    7  0.389  0.461   \n",
       "\n",
       "     OPS  RC27  XR27   球団勝率  プレーオフ  球団平均得点   球団打率  \n",
       "0  0.903  7.70  7.52  0.633      2    5.15  0.273  \n",
       "1  0.716  4.10  4.01  0.633      2    5.15  0.273  \n",
       "2  0.805  6.41  6.26  0.633      2    5.15  0.273  \n",
       "3  0.900  6.80  6.90  0.633      2    5.15  0.273  \n",
       "4  0.850  6.55  6.54  0.633      2    5.15  0.273  \n",
       "\n",
       "[5 rows x 32 columns]"
      ]
     },
     "execution_count": 3,
     "metadata": {},
     "output_type": "execute_result"
    }
   ],
   "source": [
    "# データを最初の5行だけ表示\n",
    "dataset.head()"
   ]
  },
  {
   "cell_type": "code",
   "execution_count": 4,
   "metadata": {},
   "outputs": [
    {
     "data": {
      "text/html": [
       "<div>\n",
       "<style scoped>\n",
       "    .dataframe tbody tr th:only-of-type {\n",
       "        vertical-align: middle;\n",
       "    }\n",
       "\n",
       "    .dataframe tbody tr th {\n",
       "        vertical-align: top;\n",
       "    }\n",
       "\n",
       "    .dataframe thead th {\n",
       "        text-align: right;\n",
       "    }\n",
       "</style>\n",
       "<table border=\"1\" class=\"dataframe\">\n",
       "  <thead>\n",
       "    <tr style=\"text-align: right;\">\n",
       "      <th></th>\n",
       "      <th>打率</th>\n",
       "      <th>打点</th>\n",
       "    </tr>\n",
       "  </thead>\n",
       "  <tbody>\n",
       "    <tr>\n",
       "      <th>0</th>\n",
       "      <td>0.308</td>\n",
       "      <td>92</td>\n",
       "    </tr>\n",
       "    <tr>\n",
       "      <th>1</th>\n",
       "      <td>0.271</td>\n",
       "      <td>56</td>\n",
       "    </tr>\n",
       "    <tr>\n",
       "      <th>2</th>\n",
       "      <td>0.290</td>\n",
       "      <td>60</td>\n",
       "    </tr>\n",
       "    <tr>\n",
       "      <th>3</th>\n",
       "      <td>0.265</td>\n",
       "      <td>78</td>\n",
       "    </tr>\n",
       "    <tr>\n",
       "      <th>4</th>\n",
       "      <td>0.292</td>\n",
       "      <td>48</td>\n",
       "    </tr>\n",
       "  </tbody>\n",
       "</table>\n",
       "</div>"
      ],
      "text/plain": [
       "      打率  打点\n",
       "0  0.308  92\n",
       "1  0.271  56\n",
       "2  0.290  60\n",
       "3  0.265  78\n",
       "4  0.292  48"
      ]
     },
     "execution_count": 4,
     "metadata": {},
     "output_type": "execute_result"
    }
   ],
   "source": [
    "# 中身を'打率'と'打点'の列のみにする\n",
    "dataset = dataset.loc[:, ['打率', '打点']]\n",
    "# 先頭の5行だけ表示して確認\n",
    "dataset.head()"
   ]
  },
  {
   "cell_type": "code",
   "execution_count": 5,
   "metadata": {},
   "outputs": [
    {
     "name": "stderr",
     "output_type": "stream",
     "text": [
      "/anaconda3/lib/python3.7/site-packages/sklearn/preprocessing/data.py:334: DataConversionWarning: Data with input dtype int64, float64 were all converted to float64 by MinMaxScaler.\n",
      "  return self.partial_fit(X, y)\n"
     ]
    }
   ],
   "source": [
    "# MinMaxScalerで正規化を実施\n",
    "from sklearn.preprocessing import MinMaxScaler\n",
    "scaler = MinMaxScaler()\n",
    "MinMaxScaler(copy=True, feature_range=(0, 1))\n",
    "data_norm=scaler.fit_transform(dataset)"
   ]
  },
  {
   "cell_type": "code",
   "execution_count": 6,
   "metadata": {},
   "outputs": [
    {
     "data": {
      "text/plain": [
       "array([[0.616     , 0.87619048],\n",
       "       [0.542     , 0.53333333],\n",
       "       [0.58      , 0.57142857],\n",
       "       [0.53      , 0.74285714],\n",
       "       [0.584     , 0.45714286]])"
      ]
     },
     "execution_count": 6,
     "metadata": {},
     "output_type": "execute_result"
    }
   ],
   "source": [
    "# 正規化後のデータを確認（5行分だけ表示）\n",
    "\n",
    "data_norm[0:5]"
   ]
  },
  {
   "cell_type": "code",
   "execution_count": 7,
   "metadata": {},
   "outputs": [
    {
     "data": {
      "text/plain": [
       "<matplotlib.collections.PathCollection at 0x1a18016c88>"
      ]
     },
     "execution_count": 7,
     "metadata": {},
     "output_type": "execute_result"
    },
    {
     "data": {
      "image/png": "[encoded data removed]",
      "text/plain": [
       "<Figure size 432x288 with 1 Axes>"
      ]
     },
     "metadata": {
      "needs_background": "light"
     },
     "output_type": "display_data"
    }
   ],
   "source": [
    "# 正規化後の打率と打点の散布図を描画する\n",
    "plt.scatter(data_norm[:, 0], data_norm[:, 1], c='green', marker='x', s=30, label='normalize')"
   ]
  },
  {
   "cell_type": "code",
   "execution_count": 8,
   "metadata": {},
   "outputs": [],
   "source": [
    "# 最大クラスター数を10としてWCSS値を取得\n",
    "from sklearn.cluster import KMeans\n",
    "wcss = []\n",
    "n_comps = np.arange(1, 10)\n",
    "\n",
    "for k in n_comps:\n",
    "    # KMeansの初期化。initはデフォルトで\"k-means++\"、n_initもデフォルトで10\n",
    "    km = KMeans(n_clusters=k, init='k-means++', n_init=10).fit(data_norm)\n",
    "    # inertia_属性に、WCSSの値が入っている\n",
    "    wcss.append(km.inertia_)"
   ]
  },
  {
   "cell_type": "code",
   "execution_count": 9,
   "metadata": {},
   "outputs": [
    {
     "data": {
      "image/png": "[encoded data removed]",
      "text/plain": [
       "<Figure size 432x288 with 1 Axes>"
      ]
     },
     "metadata": {
      "needs_background": "light"
     },
     "output_type": "display_data"
    }
   ],
   "source": [
    "# 上記結果をplotにて可視化\n",
    "fig = plt.figure(figsize=(6, 4))\n",
    "plt.plot(n_comps, wcss)\n",
    "plt.xlabel(\"\")\n",
    "plt.ylabel(\"WCSS\")\n",
    "plt.show()"
   ]
  },
  {
   "cell_type": "code",
   "execution_count": 10,
   "metadata": {},
   "outputs": [
    {
     "data": {
      "text/plain": [
       "<matplotlib.collections.PathCollection at 0x1044b1630>"
      ]
     },
     "execution_count": 10,
     "metadata": {},
     "output_type": "execute_result"
    },
    {
     "data": {
      "image/png": "[encoded data removed]",
      "text/plain": [
       "<Figure size 432x288 with 1 Axes>"
      ]
     },
     "metadata": {
      "needs_background": "light"
     },
     "output_type": "display_data"
    }
   ],
   "source": [
    "colors = ['dodgerblue', 'orange', 'green', 'tomato', 'blueviolet', 'cornflowerblue']\n",
    "wcss = []\n",
    "km = KMeans(n_clusters=6, init='k-means++', n_init=10).fit(data_norm)\n",
    "wcss.append(km.inertia_)\n",
    "labels = km.labels_\n",
    "colors2 = [colors[x] for x in labels]\n",
    "plt.scatter(data_norm[:, 0], data_norm[:, 1],color=colors2,)"
   ]
  },
  {
   "cell_type": "code",
   "execution_count": null,
   "metadata": {},
   "outputs": [],
   "source": []
  }
 ],
 "metadata": {
  "kernelspec": {
   "display_name": "Python 3",
   "language": "python",
   "name": "python3"
  },
  "language_info": {
   "codemirror_mode": {
    "name": "ipython",
    "version": 3
   },
   "file_extension": ".py",
   "mimetype": "text/x-python",
   "name": "python",
   "nbconvert_exporter": "python",
   "pygments_lexer": "ipython3",
   "version": "3.7.3"
  }
 },
 "nbformat": 4,
 "nbformat_minor": 2
}
